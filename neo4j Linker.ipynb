{
 "cells": [
  {
   "cell_type": "code",
   "execution_count": 28,
   "id": "dental-scott",
   "metadata": {
    "scrolled": true
   },
   "outputs": [],
   "source": [
    "import argparse\n",
    "import json\n",
    "import os\n",
    "\n",
    "from neo4j import GraphDatabase\n",
    "import sys\n",
    "sys.argv=['']\n",
    "del sys\n",
    "query = \"\"\"\n",
    "WITH { json_data } AS diseases\n",
    "UNWIND diseases AS d\n",
    "MERGE (disease:Disease { id: d.disease_id, name: d.disease_name }) \n",
    "FOREACH (c IN d.causes | MERGE (cause:Cause { id: c.cause_id, name: c.cause_name })\n",
    "  MERGE (disease)-[:CAUSED_BY]->(cause))\n",
    "FOREACH (r IN d.risk_factors | MERGE (risk:RiskFactor { id: r.risk_id, name: r.risk_name })\n",
    "  MERGE (disease)-[:HAS_RISK]->(risk))\n",
    "\"\"\"\n",
    "\n",
    "\n",
    "def file_exists(p, arg):\n",
    "    if not os.path.exists(arg):\n",
    "        p.error('File {} does not exists'.format(arg))\n",
    "    else:\n",
    "        return arg\n",
    "\n",
    "\n",
    "def add_diseases(tx, json_data):\n",
    "    for record in tx.run(query, json_data=json_data):\n",
    "        print(record)\n",
    "\n",
    "\n",
    "# parser = argparse.ArgumentParser()\n",
    "# parser.add_argument(\"file\", help=\"MayoClinic diseases json\", type=lambda x: file_exists(parser, x), nargs='*')\n",
    "# args = parser.parse_args()\n",
    "\n",
    "driver = GraphDatabase.driver(\"bolt://localhost:7687\")\n",
    "\n",
    "with open(\"mayo-diseases_full.json\") as diseases_file:\n",
    "    diseases_json = json.load(diseases_file)\n",
    "\n",
    "with driver.session() as session:\n",
    "    session.write_transaction(add_diseases, diseases_json)"
   ]
  },
  {
   "cell_type": "code",
   "execution_count": null,
   "id": "legal-ghost",
   "metadata": {},
   "outputs": [],
   "source": []
  }
 ],
 "metadata": {
  "kernelspec": {
   "display_name": "Python 3",
   "language": "python",
   "name": "python3"
  },
  "language_info": {
   "codemirror_mode": {
    "name": "ipython",
    "version": 3
   },
   "file_extension": ".py",
   "mimetype": "text/x-python",
   "name": "python",
   "nbconvert_exporter": "python",
   "pygments_lexer": "ipython3",
   "version": "3.7.7"
  }
 },
 "nbformat": 4,
 "nbformat_minor": 5
}
